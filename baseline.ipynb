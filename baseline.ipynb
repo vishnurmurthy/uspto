{
 "cells": [
  {
   "cell_type": "code",
   "execution_count": 20,
   "metadata": {},
   "outputs": [],
   "source": [
    "import csv\n",
    "import pandas as pd\n",
    "import numpy as np\n",
    "import math\n",
    "import scipy"
   ]
  },
  {
   "cell_type": "code",
   "execution_count": 21,
   "metadata": {
    "collapsed": true
   },
   "outputs": [],
   "source": [
    "def dateToIndex(date):\n",
    "    datearr = date.split(\"/\")\n",
    "    month = int(datearr[0])\n",
    "    year = int(datearr[2])\n",
    "    return (year-2010)*12+month-1"
   ]
  },
  {
   "cell_type": "code",
   "execution_count": 22,
   "metadata": {
    "collapsed": true
   },
   "outputs": [],
   "source": [
    "def predFunc(date, dataframe):\n",
    "    dateIndex = dateToIndex(date)\n",
    "    predict = math.pow(10, math.log(dataframe.volume[dateIndex-1]) + math.log(dataframe.volume[dateIndex-12]))\n",
    "    return predict"
   ]
  },
  {
   "cell_type": "code",
   "execution_count": 24,
   "metadata": {
    "scrolled": true
   },
   "outputs": [
    {
     "name": "stdout",
     "output_type": "stream",
     "text": [
      "        month    volume\n",
      "0    1/1/2010  0.377523\n",
      "1    2/1/2010  0.400055\n",
      "2    3/1/2010  0.518229\n",
      "3    4/1/2010  0.466785\n",
      "4    5/1/2010  0.433541\n",
      "5    6/1/2010  0.506566\n",
      "6    7/1/2010  0.441340\n",
      "7    8/1/2010  0.450235\n",
      "8    9/1/2010  0.481614\n",
      "9   10/1/2010  0.460334\n",
      "10  11/1/2010  0.459359\n",
      "11  12/1/2010  0.542025\n",
      "12   1/1/2011  0.424393\n",
      "13   2/1/2011  0.421962\n",
      "14   3/1/2011  0.548898\n",
      "15   4/1/2011  0.459347\n",
      "16   5/1/2011  0.468627\n",
      "17   6/1/2011  0.524560\n",
      "18   7/1/2011  0.430435\n",
      "19   8/1/2011  0.495540\n",
      "20   9/1/2011  0.573946\n",
      "21  10/1/2011  0.455736\n",
      "22  11/1/2011  0.469554\n",
      "23  12/1/2011  0.559286\n",
      "24   1/1/2012  0.438500\n",
      "25   2/1/2012  0.468194\n",
      "26   3/1/2012  0.555651\n",
      "27   4/1/2012  0.490774\n",
      "28   5/1/2012  0.511513\n",
      "29   6/1/2012  0.545323\n",
      "..        ...       ...\n",
      "54   7/1/2014  0.523682\n",
      "55   8/1/2014  0.504652\n",
      "56   9/1/2014  0.574054\n",
      "57  10/1/2014  0.546190\n",
      "58  11/1/2014  0.461333\n",
      "59  12/1/2014  0.595166\n",
      "60   1/1/2015  0.455579\n",
      "61   2/1/2015  0.448285\n",
      "62   3/1/2015  0.561897\n",
      "63   4/1/2015  0.488608\n",
      "64   5/1/2015  0.462296\n",
      "65   6/1/2015  0.541062\n",
      "66   7/1/2015  0.474429\n",
      "67   8/1/2015  0.453906\n",
      "68   9/1/2015  0.549091\n",
      "69  10/1/2015  0.475861\n",
      "70  11/1/2015  0.438945\n",
      "71  12/1/2015  0.399598\n",
      "72   1/1/2016  0.301657\n",
      "73   2/1/2016  0.320735\n",
      "74   3/1/2016  0.370891\n",
      "75   4/1/2016  0.309144\n",
      "76   5/1/2016  0.310348\n",
      "77   6/1/2016  0.346626\n",
      "78   7/1/2016  0.269640\n",
      "79   8/1/2016  0.300309\n",
      "80   9/1/2016  0.299070\n",
      "81  10/1/2016  0.263430\n",
      "82  11/1/2016  0.242294\n",
      "83  12/1/2016  0.182063\n",
      "\n",
      "[84 rows x 2 columns]\n"
     ]
    }
   ],
   "source": [
    "appVolDat = pd.read_csv('filingVolumes.csv')\n",
    "prediction = appVolDat.iloc[1405]\n",
    "appVolDat = appVolDat.iloc[1320:1404]\n",
    "appVolDat = appVolDat.reset_index(drop=True)\n",
    "maximum = max(appVolDat.volume)\n",
    "appVolDat.volume = appVolDat.volume/maximum\n",
    "print(appVolDat)"
   ]
  },
  {
   "cell_type": "code",
   "execution_count": null,
   "metadata": {
    "collapsed": true
   },
   "outputs": [],
   "source": []
  }
 ],
 "metadata": {
  "kernelspec": {
   "display_name": "Python 3",
   "language": "python",
   "name": "python3"
  },
  "language_info": {
   "codemirror_mode": {
    "name": "ipython",
    "version": 3
   },
   "file_extension": ".py",
   "mimetype": "text/x-python",
   "name": "python",
   "nbconvert_exporter": "python",
   "pygments_lexer": "ipython3",
   "version": "3.6.3"
  }
 },
 "nbformat": 4,
 "nbformat_minor": 2
}
